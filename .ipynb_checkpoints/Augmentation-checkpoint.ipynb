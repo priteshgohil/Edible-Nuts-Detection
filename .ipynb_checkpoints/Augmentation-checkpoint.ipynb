{
 "cells": [
  {
   "cell_type": "markdown",
   "metadata": {},
   "source": [
    "* Image size = 1936 x 1216\n",
    "* Yolo input = 416 x 416"
   ]
  },
  {
   "cell_type": "code",
   "execution_count": 6,
   "metadata": {
    "collapsed": true
   },
   "outputs": [],
   "source": [
    "import os\n",
    "import numpy as np\n",
    "import csv\n",
    "from PIL import Image\n",
    "import sys\n",
    "if('/opt/ros/kinetic/lib/python2.7/dist-packages' in sys.path):\n",
    "    sys.path.remove('/opt/ros/kinetic/lib/python2.7/dist-packages')\n",
    "import cv2"
   ]
  },
  {
   "cell_type": "code",
   "execution_count": 27,
   "metadata": {
    "collapsed": false
   },
   "outputs": [],
   "source": [
    "def scale_image(im, bounding_boxes, wsize=416):\n",
    "    w_old = im.shape[1]\n",
    "    h_old = im.shape[0]\n",
    "    w_new = wsize\n",
    "    h_new = 0\n",
    "    \n",
    "    #find ratio of new height and width\n",
    "    wpercent = (w_new/float(w_old))\n",
    "    h_new = int((float(h_old)*float(wpercent)))\n",
    "    hpercent = (h_new/float(h_old))\n",
    "    \n",
    "    #resize image\n",
    "    resized_im = cv2.resize(im,(w_new,h_new))\n",
    "    \n",
    "    #resize bounding box\n",
    "    new_bb = []\n",
    "    for bb in bounding_boxes:\n",
    "        x,y,w,h = int(bb[0]), int(bb[1]), int(bb[2]), int(bb[3])\n",
    "        x = int(x*float(wpercent))\n",
    "        y = int(y*float(hpercent))\n",
    "        w = int((float(w)*float(wpercent)))\n",
    "        h = int((float(h)*float(hpercent)))\n",
    "        new_bb.append([x,y,w,h])\n",
    "    return resized_im, np.array(new_bb,dtype=bounding_boxes.dtype)\n",
    "\n",
    "\n",
    "def randomCrop_image(image, bounding_boxes):\n",
    "    return im, bb\n",
    "\n",
    "def zoom_image(image, bounding_boxes):\n",
    "    return im, bb"
   ]
  },
  {
   "cell_type": "markdown",
   "metadata": {},
   "source": [
    "# get list of images and labels"
   ]
  },
  {
   "cell_type": "code",
   "execution_count": 64,
   "metadata": {
    "collapsed": false
   },
   "outputs": [],
   "source": [
    "def make_dataset(path):\n",
    "    #default \"../data/\"\n",
    "    data = []\n",
    "    for root,d_names,f_names in os.walk(path):\n",
    "        for f in f_names:\n",
    "            if('.png' in f):\n",
    "                data.append(os.path.join(root,f))\n",
    "    return data\n",
    "\n",
    "def read_bb_annotation(csv_file):  \n",
    "    with open('bb_annotation.csv') as csvfile:\n",
    "        readCSV = csv.reader(csvfile, delimiter=',')\n",
    "        labels = []\n",
    "        for row in readCSV:\n",
    "            labels.append(row)\n",
    "        return np.array(labels[1:])\n",
    "    \n",
    "def draw_BB(image, bounding_boxes):\n",
    "    img = image.copy()\n",
    "    for bb in bounding_boxes:\n",
    "        x,y,w,h = int(bb[0]), int(bb[1]), int(bb[2]), int(bb[3])\n",
    "        cv2.rectangle(img,(x,y),(x+w,y+h),(0,255,0),2)\n",
    "    return img\n",
    "    \n",
    "dataset_path = \"/media/pritesh/Entertainment/cvData/\"\n",
    "images = make_dataset(dataset_path)\n",
    "annotation = [x.replace('image', 'label_renamed').replace(os.path.splitext(x)[-1], '.json') for x in images]\n",
    "videos = [x.replace('image', 'video').replace(os.path.splitext(x)[-1], '.avi') for x in images]\n",
    "labels = read_bb_annotation(\"/media/pritesh/Entertainment/cvData/bb_annotation.csv\")\n",
    "\n",
    "#show image and bounding box\n",
    "im = cv2.imread(images[0])\n",
    "rows = np.where(labels==annotation[0].split('/')[-1])[0]\n",
    "bb = labels[rows,:]\n",
    "im_bb = draw_BB(im, bb[:,1:5])\n",
    "\n",
    "#scalling down image\n",
    "resized_im, resized_bb = scale_image(im, bb[:,1:5],wsize=416)\n",
    "scalled_down_im = draw_BB(resized_im,resized_bb)\n",
    "\n",
    "#scalling up image to original size\n",
    "scalled_up_im, scalled_up_bb = scale_image(resized_im, resized_bb,wsize=im.shape[1])\n",
    "scalled_up_im = draw_BB(scalled_up_im,scalled_up_bb)\n",
    "\n",
    "cv2.namedWindow(\"original\", cv2.WINDOW_NORMAL)\n",
    "cv2.namedWindow(\"scalled\", cv2.WINDOW_NORMAL)\n",
    "\n",
    "#display image\n",
    "while True:\n",
    "    cv2.imshow(\"original\", im_bb)\n",
    "    cv2.imshow(\"scalled\", scalled_up_im)\n",
    "    k = cv2.waitKey(100)\n",
    "    if k == 27:\n",
    "        break\n",
    "cv2.destroyAllWindows()\n"
   ]
  },
  {
   "cell_type": "code",
   "execution_count": 59,
   "metadata": {
    "collapsed": true
   },
   "outputs": [],
   "source": [
    "scalled_down = resized_im.copy()\n",
    "original = im.copy()"
   ]
  },
  {
   "cell_type": "markdown",
   "metadata": {},
   "source": [
    "# scalling image and bounding box"
   ]
  },
  {
   "cell_type": "code",
   "execution_count": 56,
   "metadata": {
    "collapsed": false
   },
   "outputs": [],
   "source": [
    "def scale_image(im, bounding_boxes, wsize=416):\n",
    "    w_old = im.shape[1]\n",
    "    h_old = im.shape[0]\n",
    "    w_new = wsize\n",
    "    h_new = 0\n",
    "    \n",
    "    #find ratio of new height and width\n",
    "    wpercent = (w_new/float(w_old))\n",
    "    h_new = int((float(h_old)*float(wpercent)))\n",
    "    hpercent = (h_new/float(h_old))\n",
    "    \n",
    "    #resize image\n",
    "    resized_im = cv2.resize(im,(w_new,h_new))\n",
    "    \n",
    "    #resize bounding box\n",
    "    new_bb = []\n",
    "    for bb in bounding_boxes:\n",
    "        x,y,w,h = int(bb[0]), int(bb[1]), int(bb[2]), int(bb[3])\n",
    "        x = int(x*float(wpercent))\n",
    "        y = int(y*float(hpercent))\n",
    "        w = int((float(w)*float(wpercent)))\n",
    "        h = int((float(h)*float(hpercent)))\n",
    "        new_bb.append([x,y,w,h])\n",
    "    return resized_im, np.array(new_bb,dtype=bounding_boxes.dtype)\n",
    "\n",
    "w_new = 416\n",
    "h_new = 0\n",
    "w_old = im.shape[1]\n",
    "h_old = im.shape[0]\n",
    "\n",
    "wpercent = (w_new/float(w_old))\n",
    "h_new = int((float(h_old)*float(wpercent)))\n",
    "hpercent = (h_new/float(h_old))\n",
    "\n",
    "resized_im = cv2.resize(im,(w_new,h_new))\n",
    "b_box = labels[rows,:]\n",
    "bounding_boxes = b_box[:,1:5]\n",
    "new_bb = []\n",
    "for bb in bounding_boxes:\n",
    "    x,y,w,h = int(bb[0]), int(bb[1]), int(bb[2]), int(bb[3])\n",
    "    x = int(x*float(wpercent))\n",
    "    y = int(y*float(hpercent))\n",
    "    w = int((float(w)*float(wpercent)))\n",
    "    h = int((float(h)*float(hpercent)))\n",
    "    cv2.rectangle(resized_im,(x,y),(x+w,y+h),(0,255,0),2)\n",
    "    new_bb.append([x,y,w,h])\n",
    "\n",
    "cv2.namedWindow(\"original\", cv2.WINDOW_NORMAL)\n",
    "\n",
    "#display image\n",
    "while True:\n",
    "    cv2.imshow(\"original\", resized_im)\n",
    "    k = cv2.waitKey(100)\n",
    "    if k == 27:\n",
    "        break\n",
    "cv2.destroyAllWindows()"
   ]
  },
  {
   "cell_type": "markdown",
   "metadata": {},
   "source": [
    "# Scale up to original size image"
   ]
  },
  {
   "cell_type": "code",
   "execution_count": 61,
   "metadata": {
    "collapsed": false
   },
   "outputs": [
    {
     "name": "stdout",
     "output_type": "stream",
     "text": [
      "(261, 416, 3)\n"
     ]
    }
   ],
   "source": [
    "def scaleup_image(im, bounding_boxes, wsize=1936):\n",
    "    w_old = im.shape[1]\n",
    "    h_old = im.shape[0]\n",
    "    w_new = wsize\n",
    "    h_new = 0\n",
    "    \n",
    "    #find ratio of new height and width\n",
    "    wpercent = (w_new/float(w_old))\n",
    "    h_new = int((float(h_old)*float(wpercent)))\n",
    "    hpercent = (h_new/float(h_old))\n",
    "    \n",
    "    #resize image\n",
    "    resized_im = cv2.resize(im,(w_new,h_new))\n",
    "    \n",
    "    #resize bounding box\n",
    "    new_bb = []\n",
    "    for bb in bounding_boxes:\n",
    "        x,y,w,h = int(bb[0]), int(bb[1]), int(bb[2]), int(bb[3])\n",
    "        x = int(x*float(wpercent))\n",
    "        y = int(y*float(hpercent))\n",
    "        w = int((float(w)*float(wpercent)))\n",
    "        h = int((float(h)*float(hpercent)))\n",
    "        new_bb.append([x,y,w,h])\n",
    "    return resized_im, np.array(new_bb,dtype=bounding_boxes.dtype)\n",
    "\n",
    "im = scalled_down.copy()\n",
    "print(im.shape)\n",
    "w_new = 1936\n",
    "h_new = 0\n",
    "w_old = im.shape[1]\n",
    "h_old = im.shape[0]\n",
    "\n",
    "wpercent = (w_new/float(w_old))\n",
    "h_new = int((float(h_old)*float(wpercent)))\n",
    "hpercent = (h_new/float(h_old))\n",
    "\n",
    "resized_im = cv2.resize(im,(w_new,h_new))\n",
    "bounding_boxes = resized_bb.copy()\n",
    "new_bb = []\n",
    "for bb in bounding_boxes:\n",
    "    x,y,w,h = int(bb[0]), int(bb[1]), int(bb[2]), int(bb[3])\n",
    "    x = int(x*float(wpercent))\n",
    "    y = int(y*float(hpercent))\n",
    "    w = int((float(w)*float(wpercent)))\n",
    "    h = int((float(h)*float(hpercent)))\n",
    "    cv2.rectangle(resized_im,(x,y),(x+w,y+h),(0,255,0),2)\n",
    "    new_bb.append([x,y,w,h])\n",
    "\n",
    "cv2.namedWindow(\"original\", cv2.WINDOW_NORMAL)\n",
    "\n",
    "#display image\n",
    "while True:\n",
    "    cv2.imshow(\"original\", resized_im)\n",
    "    k = cv2.waitKey(100)\n",
    "    if k == 27:\n",
    "        break\n",
    "cv2.destroyAllWindows()"
   ]
  },
  {
   "cell_type": "code",
   "execution_count": 19,
   "metadata": {
    "collapsed": false
   },
   "outputs": [
    {
     "data": {
      "text/plain": [
       "array([['140', '33', '21', '44'],\n",
       "       ['50', '36', '52', '25'],\n",
       "       ['160', '135', '18', '16'],\n",
       "       ['190', '200', '14', '17'],\n",
       "       ['129', '143', '40', '31'],\n",
       "       ['244', '186', '40', '33'],\n",
       "       ['163', '33', '30', '38']], dtype='<U27')"
      ]
     },
     "execution_count": 19,
     "metadata": {},
     "output_type": "execute_result"
    }
   ],
   "source": [
    "np.array(new_bb,dtype=\"U27\")"
   ]
  },
  {
   "cell_type": "code",
   "execution_count": 20,
   "metadata": {
    "collapsed": false
   },
   "outputs": [
    {
     "data": {
      "text/plain": [
       "dtype('<U27')"
      ]
     },
     "execution_count": 20,
     "metadata": {},
     "output_type": "execute_result"
    }
   ],
   "source": [
    "bounding_boxes.dtype"
   ]
  },
  {
   "cell_type": "code",
   "execution_count": 54,
   "metadata": {
    "collapsed": false
   },
   "outputs": [
    {
     "data": {
      "text/plain": [
       "(1210, 1936, 3)"
      ]
     },
     "execution_count": 54,
     "metadata": {},
     "output_type": "execute_result"
    }
   ],
   "source": [
    "resized_im.shape"
   ]
  },
  {
   "cell_type": "code",
   "execution_count": 51,
   "metadata": {
    "collapsed": false
   },
   "outputs": [
    {
     "data": {
      "text/plain": [
       "(1214, 1936, 3)"
      ]
     },
     "execution_count": 51,
     "metadata": {},
     "output_type": "execute_result"
    }
   ],
   "source": [
    "im.shape"
   ]
  },
  {
   "cell_type": "code",
   "execution_count": 46,
   "metadata": {
    "collapsed": false
   },
   "outputs": [
    {
     "data": {
      "text/plain": [
       "array([['140', '33', '21', '44'],\n",
       "       ['50', '36', '52', '25'],\n",
       "       ['160', '135', '18', '16'],\n",
       "       ['190', '200', '14', '17'],\n",
       "       ['129', '143', '40', '31'],\n",
       "       ['244', '186', '40', '33'],\n",
       "       ['163', '33', '30', '38']], dtype='<U27')"
      ]
     },
     "execution_count": 46,
     "metadata": {},
     "output_type": "execute_result"
    }
   ],
   "source": [
    "bounding_boxes"
   ]
  },
  {
   "cell_type": "code",
   "execution_count": null,
   "metadata": {
    "collapsed": true
   },
   "outputs": [],
   "source": []
  }
 ],
 "metadata": {
  "kernelspec": {
   "display_name": "Python 3",
   "language": "python",
   "name": "python3"
  },
  "language_info": {
   "codemirror_mode": {
    "name": "ipython",
    "version": 3
   },
   "file_extension": ".py",
   "mimetype": "text/x-python",
   "name": "python",
   "nbconvert_exporter": "python",
   "pygments_lexer": "ipython3",
   "version": "3.6.8"
  }
 },
 "nbformat": 4,
 "nbformat_minor": 2
}
