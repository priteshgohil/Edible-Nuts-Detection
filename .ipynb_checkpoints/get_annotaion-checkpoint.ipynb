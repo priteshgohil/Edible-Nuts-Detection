{
 "cells": [
  {
   "cell_type": "code",
   "execution_count": 7,
   "metadata": {
    "collapsed": true
   },
   "outputs": [],
   "source": [
    "import torch.utils.data as data\n",
    "import numpy as np\n",
    "import glob\n",
    "import os\n",
    "import sys\n",
    "import torch\n",
    "import json\n",
    "\n",
    "from PIL import Image\n",
    "if('/opt/ros/kinetic/lib/python2.7/dist-packages' in sys.path):\n",
    "    sys.path.remove('/opt/ros/kinetic/lib/python2.7/dist-packages')\n",
    "import cv2\n",
    "\n",
    "\n",
    "def make_dataset(path):\n",
    "    data = []\n",
    "    for root,d_names,f_names in os.walk(path):\n",
    "        for f in f_names:\n",
    "            if('.png' in f):\n",
    "                data.append(os.path.join(root,f))\n",
    "    return data\n",
    "\n",
    "class VisualTactile(data.Dataset):\n",
    "    \"\"\"\n",
    "    Dataset to load images\n",
    "    \"\"\"\n",
    "\n",
    "    def __init__(self, datasetpath, transforms=None):\n",
    "        self.path = datasetpath\n",
    "        self.transforms = transforms\n",
    "        self.data = make_dataset(self.path)\n",
    "\n",
    "    def __getitem__(self,index):\n",
    "        pass\n",
    "\n",
    "    def __len__(self):\n",
    "        return len(self.data)"
   ]
  },
  {
   "cell_type": "code",
   "execution_count": 8,
   "metadata": {
    "collapsed": true
   },
   "outputs": [],
   "source": [
    "def get_annotation(path):\n",
    "    annotation = []\n",
    "    with open(path) as f:\n",
    "        objects = json.load(f)\n",
    "    for obj in objects['shapes']:\n",
    "        annotation.append([obj['label'] , obj['points']])\n",
    "    return np.array(annotation)"
   ]
  },
  {
   "cell_type": "code",
   "execution_count": 9,
   "metadata": {
    "collapsed": true
   },
   "outputs": [],
   "source": [
    "data = make_dataset(\"/media/pritesh/Entertainment/cvData/\")\n",
    "label = [x.replace('image', 'label_renamed').replace(os.path.splitext(x)[-1], '.json') for x in data]"
   ]
  },
  {
   "cell_type": "code",
   "execution_count": 11,
   "metadata": {
    "collapsed": false
   },
   "outputs": [
    {
     "data": {
      "text/plain": [
       "array([['Walnut',\n",
       "        list([[621, 532], [640, 498], [642, 454], [632, 422], [615, 394], [589, 377], [555, 377], [531, 384], [510, 407], [498, 441], [502, 479], [515, 513], [538, 537], [576, 541]])],\n",
       "       ['Walnut',\n",
       "        list([[1004, 601], [940, 594], [885, 545], [880, 492], [891, 469], [929, 449], [991, 462], [1019, 477], [1057, 532], [1047, 577]])],\n",
       "       ['Walnut',\n",
       "        list([[1061, 590], [1023, 607], [997, 647], [985, 692], [1017, 754], [1042, 764], [1093, 739], [1127, 656], [1115, 607]])],\n",
       "       ['Peanut',\n",
       "        list([[1312, 758], [1287, 747], [1255, 722], [1225, 696], [1225, 660], [1266, 637], [1310, 654], [1351, 692], [1380, 705], [1427, 749], [1421, 784], [1398, 809], [1363, 803], [1336, 786]])],\n",
       "       ['Peanut',\n",
       "        list([[1342, 522], [1340, 500], [1327, 475], [1314, 464], [1332, 443], [1338, 411], [1336, 388], [1331, 369], [1325, 349], [1310, 337], [1283, 337], [1268, 347], [1259, 373], [1259, 400], [1263, 420], [1270, 435], [1253, 452], [1242, 466], [1240, 483], [1246, 500], [1251, 515], [1263, 526], [1276, 537], [1291, 549], [1308, 554], [1327, 554], [1336, 543]])],\n",
       "       ['Peanut',\n",
       "        list([[800, 1009], [817, 1000], [831, 994], [847, 994], [868, 1000], [878, 1013], [887, 1020], [874, 1069], [859, 1077], [844, 1083], [825, 1084], [806, 1081], [793, 1079], [780, 1071], [757, 1081], [732, 1086], [710, 1083], [687, 1075], [672, 1056], [672, 1037], [674, 1013], [695, 1001], [715, 996], [734, 996], [761, 998], [776, 1003]])]],\n",
       "      dtype=object)"
      ]
     },
     "execution_count": 11,
     "metadata": {},
     "output_type": "execute_result"
    }
   ],
   "source": [
    "out = get_annotation(label[1])\n",
    "out"
   ]
  },
  {
   "cell_type": "code",
   "execution_count": null,
   "metadata": {
    "collapsed": true
   },
   "outputs": [],
   "source": [
    "import json\n",
    "import io\n",
    "from pprint import pprint\n",
    "with io.open(label[1]) as f:\n",
    "    annotation = json.load(f)"
   ]
  },
  {
   "cell_type": "code",
   "execution_count": null,
   "metadata": {
    "collapsed": true
   },
   "outputs": [],
   "source": [
    "label[0]"
   ]
  },
  {
   "cell_type": "code",
   "execution_count": null,
   "metadata": {
    "collapsed": true
   },
   "outputs": [],
   "source": [
    "\"imagePath\" in annotation"
   ]
  },
  {
   "cell_type": "code",
   "execution_count": null,
   "metadata": {
    "collapsed": true
   },
   "outputs": [],
   "source": [
    "for a in annotation:\n",
    "    print(a)"
   ]
  },
  {
   "cell_type": "code",
   "execution_count": 17,
   "metadata": {
    "collapsed": true
   },
   "outputs": [],
   "source": [
    "# len(annotation['shapes'])\n",
    "# print(annotation['shapes'][0])\n",
    "# print(annotation['shapes'][0]['label'])\n",
    "# print(annotation['shapes'][0]['points'])\n",
    "a = []\n",
    "for l in annotation['shapes']:\n",
    "    a.append([l['label'], l['points']])\n",
    "    np.array(a)"
   ]
  },
  {
   "cell_type": "code",
   "execution_count": 26,
   "metadata": {
    "collapsed": false
   },
   "outputs": [
    {
     "data": {
      "text/plain": [
       "array(['Walnut', 'Walnut', 'Walnut', 'Peanut', 'Peanut', 'Peanut'],\n",
       "      dtype=object)"
      ]
     },
     "execution_count": 26,
     "metadata": {},
     "output_type": "execute_result"
    }
   ],
   "source": [
    "b = np.array(a)\n"
   ]
  },
  {
   "cell_type": "code",
   "execution_count": null,
   "metadata": {
    "collapsed": true
   },
   "outputs": [],
   "source": []
  }
 ],
 "metadata": {
  "kernelspec": {
   "display_name": "Python 3",
   "language": "python",
   "name": "python3"
  },
  "language_info": {
   "codemirror_mode": {
    "name": "ipython",
    "version": 3
   },
   "file_extension": ".py",
   "mimetype": "text/x-python",
   "name": "python",
   "nbconvert_exporter": "python",
   "pygments_lexer": "ipython3",
   "version": "3.6.8"
  }
 },
 "nbformat": 4,
 "nbformat_minor": 2
}
