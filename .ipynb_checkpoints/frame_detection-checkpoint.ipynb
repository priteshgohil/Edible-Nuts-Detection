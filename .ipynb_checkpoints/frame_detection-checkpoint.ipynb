{
 "cells": [
  {
   "cell_type": "code",
   "execution_count": 3,
   "metadata": {
    "collapsed": true
   },
   "outputs": [],
   "source": [
    "import sys\n",
    "if('/opt/ros/kinetic/lib/python2.7/dist-packages' in sys.path):\n",
    "    sys.path.remove('/opt/ros/kinetic/lib/python2.7/dist-packages')\n",
    "import cv2\n",
    "import numpy as np\n",
    "import matplotlib.pyplot as plt\n",
    "import operator"
   ]
  },
  {
   "cell_type": "markdown",
   "metadata": {},
   "source": [
    "# Logic\n",
    "\n",
    "1. find color histogram \n",
    "2. calculate difference of color histogram between previous and current frame. (cv2.HISTCMP_CORREL & cv2.HISTCMP_KL_DIV)\n",
    "3. we have two list of difference for entire video using two differnt methods\n",
    "4. perform element wise subtraction of correlation with klDivergence -> new list\n",
    "5. find value < 0. this is the frame with hands most of the time . add offset of 10 or 15 and you got it.\n",
    "6. With too dark video you will never get. So suggetion is amplify klDiv by 10 and check if (value <0 and index < 15)"
   ]
  },
  {
   "cell_type": "markdown",
   "metadata": {},
   "source": [
    "# check with the video which is similar and not similar\n",
    "\n",
    "1. 57 perfect video ( 6 + buffer = 16 or 20)\n",
    "2. 46 objects taking more time to settle(10 + buffer = 20th or 25th frame)\n",
    "3. 96 too dark video (delet this is outlier multiply liner by 20 then it will detect)\n",
    "4. 94 too dark video2 (approach is working)\n",
    "5. 82 too bright (9+buffer = 20)\n",
    "6. 64 too dark (5 + buffer = 20)\n",
    "7. 242 Extreme dark (3 + buffer = 15) : PASS\n",
    "8. 315 Half dark half bright : PASS\n",
    "9. 339 extreme bright + variation in the brightness : pass\n",
    "10. 341 Black background : pass"
   ]
  },
  {
   "cell_type": "code",
   "execution_count": 15,
   "metadata": {
    "collapsed": false
   },
   "outputs": [],
   "source": [
    "vid_path = \"/media/pritesh/Entertainment/cvData/VideoPackage1_1/CV19_video_64.avi\"\n",
    "cap = cv2.VideoCapture(vid_path)\n",
    "# cap = cv2.VideoCapture(\"../data/VideoPackage1_1/CV19_video_64.avi\")\n",
    "success, frame_prev = cap.read() #read 1st frame\n",
    "# quit if unable to read the video file\n",
    "if not success:\n",
    "    print('Failed to read video')\n",
    "    sys.exit(1)\n",
    "\n",
    "# correlation cv2.HISTCMP_CORREL\n",
    "#chi-squared cv2.HISTCMP_CHISQR\n",
    "#intersection cv2.HISTCMP_INTERSECT\n",
    "#hellinger cv2.HISTCMP_BHATTACHARYYA\n",
    "\n",
    "hist_correlation =[]\n",
    "hist_hellinger = []\n",
    "hist_kldiv = []\n",
    "count = 0\n",
    "while cap.isOpened():\n",
    "    success, frame_next = cap.read()\n",
    "    if not success:\n",
    "        break\n",
    "    hist_prev = cv2.calcHist([frame_prev], [0,1,2], None, [8,8,8], [0,256,0,256,0,256])\n",
    "    hist_prev = cv2.normalize(hist_prev, hist_prev).flatten()\n",
    "    \n",
    "    hist_next = cv2.calcHist([frame_next], [0,1,2], None, [8,8,8], [0,256,0,256,0,256])\n",
    "    hist_next = cv2.normalize(hist_next, hist_next).flatten()\n",
    "    hist_correlation.append(cv2.compareHist(hist_prev, hist_next, cv2.HISTCMP_CORREL))\n",
    "    hist_hellinger.append(cv2.compareHist(hist_prev, hist_next, cv2.HISTCMP_BHATTACHARYYA))\n",
    "    hist_kldiv.append(cv2.compareHist(hist_prev, hist_next, cv2.HISTCMP_KL_DIV)*80)\n",
    "    \n",
    "    frame_prev = frame_next"
   ]
  },
  {
   "cell_type": "code",
   "execution_count": 6,
   "metadata": {
    "collapsed": false
   },
   "outputs": [
    {
     "data": {
      "text/plain": [
       "[<matplotlib.lines.Line2D at 0x7f2ad06dfa58>]"
      ]
     },
     "execution_count": 6,
     "metadata": {},
     "output_type": "execute_result"
    },
    {
     "data": {
      "image/png": "[encoded data removed]",
      "text/plain": [
       "<matplotlib.figure.Figure at 0x7f2a99e41978>"
      ]
     },
     "metadata": {
      "needs_background": "light"
     },
     "output_type": "display_data"
    }
   ],
   "source": [
    "plt.plot(hist_correlation)\n",
    "plt.plot(hist_hellinger)\n",
    "plt.plot(hist_kldiv)"
   ]
  },
  {
   "cell_type": "code",
   "execution_count": 8,
   "metadata": {
    "collapsed": false
   },
   "outputs": [],
   "source": [
    "diff = list(map(operator.sub, hist_correlation, hist_kldiv))"
   ]
  },
  {
   "cell_type": "code",
   "execution_count": 9,
   "metadata": {
    "collapsed": false
   },
   "outputs": [
    {
     "data": {
      "text/plain": [
       "(array([5]),)"
      ]
     },
     "execution_count": 9,
     "metadata": {},
     "output_type": "execute_result"
    }
   ],
   "source": [
    "np.where(np.array(diff)<0)"
   ]
  },
  {
   "cell_type": "code",
   "execution_count": null,
   "metadata": {
    "collapsed": true
   },
   "outputs": [],
   "source": [
    "def get_frame(vid_path, frame_num):\n",
    "    cap = cv2.VideoCapture(vid_path)\n",
    "    success, frame = cap.read() #read 1st frame\n",
    "    # quit if unable to read the video file\n",
    "    if not success:\n",
    "        print('Failed to read video')\n",
    "        sys.exit(1)\n",
    "\n",
    "    cap.set(cv2.CAP_PROP_POS_FRAMES, frame_num)\n",
    "    success, frame = cap.read()\n",
    "    frame = cv2.cvtColor(frame, cv2.COLOR_BGR2RGB)\n",
    "    return frame\n",
    "def plot_for_report(vid_path, corr, kldiv,index, save_name):\n",
    "    im = get_frame(vid_path, index)\n",
    "    fig,(ax1,ax2) = plt.subplots(1,2,figsize=(15,5))\n",
    "    ax1.imshow(im)\n",
    "    ax2.plot(kldiv)\n",
    "    ax2.plot(corr)\n",
    "    ax2.axvline(index)\n",
    "    fig.savefig(\"frame_detection_out/{}\".format(save_name))\n",
    "im = get_frame(\"../data/VideoPackage1_1/CV19_video_64.avi\",5)\n",
    "fig,(ax1,ax2) = plt.subplots(1,2,figsize=(15,5))\n",
    "ax1.imshow(im)\n",
    "ax2.plot(hist_kldiv)\n",
    "ax2.plot(hist_correlation)\n",
    "ax2.axvline(5)"
   ]
  },
  {
   "cell_type": "code",
   "execution_count": null,
   "metadata": {
    "collapsed": true
   },
   "outputs": [],
   "source": []
  },
  {
   "cell_type": "markdown",
   "metadata": {},
   "source": [
    "# Visualize your result"
   ]
  },
  {
   "cell_type": "code",
   "execution_count": 21,
   "metadata": {
    "collapsed": true
   },
   "outputs": [],
   "source": [
    "def get_frame(vid_path, frame_num):\n",
    "    cap = cv2.VideoCapture(vid_path)\n",
    "    success, frame = cap.read() #read 1st frame\n",
    "    # quit if unable to read the video file\n",
    "    if not success:\n",
    "        print('Failed to read video')\n",
    "        sys.exit(1)\n",
    "\n",
    "    cap.set(cv2.CAP_PROP_POS_FRAMES, frame_num)\n",
    "    success, frame = cap.read()\n",
    "    frame = cv2.cvtColor(frame, cv2.COLOR_BGR2RGB)\n",
    "    return frame\n",
    "def plot_for_report(vid_path, corr, kldiv,index, save_name):\n",
    "    im = get_frame(vid_path, index)\n",
    "    fig,((ax1, ax2), (ax3, ax4)) = plt.subplots(2,2,figsize=(15,10))\n",
    "    ax1.imshow(im)\n",
    "    ax2.plot(kldiv)\n",
    "    ax2.plot(corr)\n",
    "    ax2.axvline(index,color='red',label=index)\n",
    "    ax2.legend()\n",
    "    \n",
    "    im = get_frame(vid_path, index+12)\n",
    "    ax3.imshow(im)\n",
    "    ax4.plot(kldiv)\n",
    "    ax4.plot(corr)\n",
    "    ax4.axvline(index+12,color='red',label=index+12)\n",
    "    ax4.legend()\n",
    "#     fig.savefig(\"frame_detection_out/{}\".format(save_name))\n",
    "\n",
    "def get_frame_index(correlation, kldiv):\n",
    "    b = True #To run loop untill we get the frame number\n",
    "    mul_factor = 1 #To amplify the kldiv by factor of 1o (only for too dark videos)\n",
    "    kldiv = np.array(kldiv)\n",
    "    correlation = np.array(correlation)\n",
    "    frame_index = None\n",
    "    while(b):\n",
    "        diff = correlation - kldiv\n",
    "        index = np.where(diff<0)[0]\n",
    "        if(len(index)):\n",
    "            if(mul_factor>1 and index[0] > 15): #The index of the frame should be less than 15 (if its more definately its wrong)\n",
    "                kldiv = kldiv*10*mul_factor #Amplify the difference by 10,20,30,40 and so on\n",
    "                mul_factor += mul_factor\n",
    "                if(mul_factor>20): #try amplifying upto 200, still not found? then stop\n",
    "                    print(\"cannot find the still frame index\")\n",
    "                    break\n",
    "            else: #this means we got the frame in one shot and video is normal\n",
    "                frame_index = index[0] \n",
    "                if(frame_index<20):\n",
    "                    b = False\n",
    "                else:\n",
    "                    mul_factor +=1\n",
    "        else:\n",
    "            kldiv = kldiv*10*mul_factor #Amplify the difference by 10,20,30,40 and so on\n",
    "            mul_factor += mul_factor\n",
    "            if(mul_factor>20): #try amplifying upto 200, still not found? then stop\n",
    "                print(\"cannot find the still frame index\")\n",
    "                break\n",
    "    return frame_index"
   ]
  },
  {
   "cell_type": "code",
   "execution_count": 22,
   "metadata": {
    "collapsed": false
   },
   "outputs": [],
   "source": [
    "vid_path = \"/media/pritesh/Entertainment/cvData/VideoPackage1_1/CV19_video_64.avi\"\n",
    "cap = cv2.VideoCapture(vid_path)\n",
    "success, frame_prev = cap.read() #read 1st frame\n",
    "# quit if unable to read the video file\n",
    "if not success:\n",
    "    print('Failed to read video')\n",
    "    sys.exit(1)\n",
    "\n",
    "hist_correlation =[]\n",
    "hist_kldiv = []\n",
    "count = 0\n",
    "while cap.isOpened():\n",
    "    success, frame_next = cap.read()\n",
    "    if not success:\n",
    "        break\n",
    "    hist_prev = cv2.calcHist([frame_prev], [0,1,2], None, [8,8,8], [0,256,0,256,0,256])\n",
    "    hist_prev = cv2.normalize(hist_prev, hist_prev).flatten()\n",
    "    \n",
    "    hist_next = cv2.calcHist([frame_next], [0,1,2], None, [8,8,8], [0,256,0,256,0,256])\n",
    "    hist_next = cv2.normalize(hist_next, hist_next).flatten()\n",
    "    hist_correlation.append(cv2.compareHist(hist_prev, hist_next, cv2.HISTCMP_CORREL))\n",
    "    hist_kldiv.append(cv2.compareHist(hist_prev, hist_next, cv2.HISTCMP_KL_DIV))\n",
    "    \n",
    "    frame_prev = frame_next\n",
    "    \n",
    "index = get_frame_index(hist_correlation,hist_kldiv)\n"
   ]
  },
  {
   "cell_type": "code",
   "execution_count": 23,
   "metadata": {
    "collapsed": false
   },
   "outputs": [
    {
     "ename": "ValueError",
     "evalue": "not enough values to unpack (expected 4, got 2)",
     "output_type": "error",
     "traceback": [
      "\u001b[0;31m---------------------------------------------------------------------------\u001b[0m",
      "\u001b[0;31mValueError\u001b[0m                                Traceback (most recent call last)",
      "\u001b[0;32m<ipython-input-23-96d0057ae85f>\u001b[0m in \u001b[0;36m<module>\u001b[0;34m()\u001b[0m\n\u001b[0;32m----> 1\u001b[0;31m \u001b[0mplot_for_report\u001b[0m\u001b[0;34m(\u001b[0m\u001b[0mvid_path\u001b[0m\u001b[0;34m,\u001b[0m\u001b[0mhist_correlation\u001b[0m\u001b[0;34m,\u001b[0m\u001b[0mhist_kldiv\u001b[0m\u001b[0;34m,\u001b[0m\u001b[0mindex\u001b[0m\u001b[0;34m,\u001b[0m\u001b[0;34m\"vid_64_{}\"\u001b[0m\u001b[0;34m.\u001b[0m\u001b[0mformat\u001b[0m\u001b[0;34m(\u001b[0m\u001b[0mindex\u001b[0m\u001b[0;34m)\u001b[0m\u001b[0;34m)\u001b[0m\u001b[0;34m\u001b[0m\u001b[0;34m\u001b[0m\u001b[0m\n\u001b[0m\u001b[1;32m      2\u001b[0m \u001b[0;31m# plot_for_report(vid_path,hist_correlation,hist_kldiv,index+12,\"vid_341_{}\".format(index+12))\u001b[0m\u001b[0;34m\u001b[0m\u001b[0;34m\u001b[0m\u001b[0;34m\u001b[0m\u001b[0m\n",
      "\u001b[0;32m<ipython-input-21-f76892ea8ad0>\u001b[0m in \u001b[0;36mplot_for_report\u001b[0;34m(vid_path, corr, kldiv, index, save_name)\u001b[0m\n\u001b[1;32m     13\u001b[0m \u001b[0;32mdef\u001b[0m \u001b[0mplot_for_report\u001b[0m\u001b[0;34m(\u001b[0m\u001b[0mvid_path\u001b[0m\u001b[0;34m,\u001b[0m \u001b[0mcorr\u001b[0m\u001b[0;34m,\u001b[0m \u001b[0mkldiv\u001b[0m\u001b[0;34m,\u001b[0m\u001b[0mindex\u001b[0m\u001b[0;34m,\u001b[0m \u001b[0msave_name\u001b[0m\u001b[0;34m)\u001b[0m\u001b[0;34m:\u001b[0m\u001b[0;34m\u001b[0m\u001b[0;34m\u001b[0m\u001b[0m\n\u001b[1;32m     14\u001b[0m     \u001b[0mim\u001b[0m \u001b[0;34m=\u001b[0m \u001b[0mget_frame\u001b[0m\u001b[0;34m(\u001b[0m\u001b[0mvid_path\u001b[0m\u001b[0;34m,\u001b[0m \u001b[0mindex\u001b[0m\u001b[0;34m)\u001b[0m\u001b[0;34m\u001b[0m\u001b[0;34m\u001b[0m\u001b[0m\n\u001b[0;32m---> 15\u001b[0;31m     \u001b[0mfig\u001b[0m\u001b[0;34m,\u001b[0m\u001b[0;34m(\u001b[0m\u001b[0max1\u001b[0m\u001b[0;34m,\u001b[0m\u001b[0max2\u001b[0m\u001b[0;34m,\u001b[0m\u001b[0max3\u001b[0m\u001b[0;34m,\u001b[0m\u001b[0max4\u001b[0m\u001b[0;34m)\u001b[0m \u001b[0;34m=\u001b[0m \u001b[0mplt\u001b[0m\u001b[0;34m.\u001b[0m\u001b[0msubplots\u001b[0m\u001b[0;34m(\u001b[0m\u001b[0;36m2\u001b[0m\u001b[0;34m,\u001b[0m\u001b[0;36m2\u001b[0m\u001b[0;34m,\u001b[0m\u001b[0mfigsize\u001b[0m\u001b[0;34m=\u001b[0m\u001b[0;34m(\u001b[0m\u001b[0;36m15\u001b[0m\u001b[0;34m,\u001b[0m\u001b[0;36m10\u001b[0m\u001b[0;34m)\u001b[0m\u001b[0;34m)\u001b[0m\u001b[0;34m\u001b[0m\u001b[0;34m\u001b[0m\u001b[0m\n\u001b[0m\u001b[1;32m     16\u001b[0m     \u001b[0max1\u001b[0m\u001b[0;34m.\u001b[0m\u001b[0mimshow\u001b[0m\u001b[0;34m(\u001b[0m\u001b[0mim\u001b[0m\u001b[0;34m)\u001b[0m\u001b[0;34m\u001b[0m\u001b[0;34m\u001b[0m\u001b[0m\n\u001b[1;32m     17\u001b[0m     \u001b[0max2\u001b[0m\u001b[0;34m.\u001b[0m\u001b[0mplot\u001b[0m\u001b[0;34m(\u001b[0m\u001b[0mkldiv\u001b[0m\u001b[0;34m)\u001b[0m\u001b[0;34m\u001b[0m\u001b[0;34m\u001b[0m\u001b[0m\n",
      "\u001b[0;31mValueError\u001b[0m: not enough values to unpack (expected 4, got 2)"
     ]
    },
    {
     "data": {
      "image/png": "[encoded data removed]",
      "text/plain": [
       "<matplotlib.figure.Figure at 0x7f2a97aadda0>"
      ]
     },
     "metadata": {
      "needs_background": "light"
     },
     "output_type": "display_data"
    }
   ],
   "source": [
    "plot_for_report(vid_path,hist_correlation,hist_kldiv,index,\"vid_64_{}\".format(index))\n",
    "# plot_for_report(vid_path,hist_correlation,hist_kldiv,index+12,\"vid_341_{}\".format(index+12))"
   ]
  },
  {
   "cell_type": "code",
   "execution_count": null,
   "metadata": {
    "collapsed": true
   },
   "outputs": [],
   "source": []
  }
 ],
 "metadata": {
  "kernelspec": {
   "display_name": "Python 3",
   "language": "python",
   "name": "python3"
  },
  "language_info": {
   "codemirror_mode": {
    "name": "ipython",
    "version": 3
   },
   "file_extension": ".py",
   "mimetype": "text/x-python",
   "name": "python",
   "nbconvert_exporter": "python",
   "pygments_lexer": "ipython3",
   "version": "3.6.8"
  }
 },
 "nbformat": 4,
 "nbformat_minor": 2
}
