{
 "cells": [
  {
   "cell_type": "code",
   "execution_count": 13,
   "metadata": {
    "collapsed": true
   },
   "outputs": [],
   "source": [
    "import torch.utils.data as data\n",
    "import numpy as np\n",
    "import glob\n",
    "import os\n",
    "import sys\n",
    "import torch\n",
    "import json\n",
    "import platform\n",
    "import csv\n",
    "from IPython.display import display\n",
    "\n",
    "from PIL import Image\n",
    "if('/opt/ros/kinetic/lib/python2.7/dist-packages' in sys.path):\n",
    "    sys.path.remove('/opt/ros/kinetic/lib/python2.7/dist-packages')\n",
    "import cv2"
   ]
  },
  {
   "cell_type": "code",
   "execution_count": 7,
   "metadata": {
    "collapsed": true
   },
   "outputs": [],
   "source": [
    "def make_dataset(path):\n",
    "    #default \"../data/\"\n",
    "    data = []\n",
    "    for root,d_names,f_names in os.walk(path):\n",
    "        for f in f_names:\n",
    "            if('.png' in f):\n",
    "                data.append(os.path.join(root,f))\n",
    "    return data\n"
   ]
  },
  {
   "cell_type": "code",
   "execution_count": 8,
   "metadata": {
    "collapsed": true
   },
   "outputs": [],
   "source": [
    "\n",
    "def write_title(img, path):\n",
    "    font                   = cv2.FONT_HERSHEY_SIMPLEX\n",
    "    bottomLeftCornerOfText = (10,30)\n",
    "    fontScale              = 1\n",
    "    fontColor              = (255,255,255)\n",
    "    lineType               = 2\n",
    "\n",
    "    cv2.putText(img,path, \n",
    "        bottomLeftCornerOfText, \n",
    "        font, \n",
    "        fontScale,\n",
    "        fontColor,\n",
    "        lineType)\n",
    "    return img\n",
    "\n",
    "def change_mask(mask, old_color, new_color):\n",
    "    mask[np.where((mask==old_color).all(axis=2))] = new_color\n",
    "    return mask\n",
    "def transperent_mask(mask):\n",
    "    mask = change_mask(mask, [255,255,255], [0,255,0])\n",
    "    return (255-mask)\n",
    "\n",
    "def apply_mask(image, mask):\n",
    "    masked_image = cv2.bitwise_and(image, mask)\n",
    "    return masked_image\n",
    "\n",
    "def apply_overlay(image, mask, alpha):\n",
    "    cv2.addWeighted(mask, alpha, image, 1 - alpha,0, image)\n",
    "    return image\n",
    "\n",
    "def get_polygon_mask(im, annotations):\n",
    "    height,width,depth = im.shape\n",
    "    mask = np.zeros(im.shape, np.uint8)\n",
    "    ignore_mask_color = (255,)*depth\n",
    "    for i,an in enumerate(annotations):\n",
    "        polygon = an[1][np.newaxis]\n",
    "        cv2.fillPoly(mask, polygon , ignore_mask_color)    \n",
    "        cv2.putText(mask, an[0], (int(an[1][0,0]),int(an[1][0,1]-10)), cv2.FONT_HERSHEY_SIMPLEX, 1, (0,255,255), 2)\n",
    "    return mask\n",
    "    \n",
    "def get_annotation(path):\n",
    "    annotation = []\n",
    "    with open(path) as f:\n",
    "        objects = json.load(f)\n",
    "    for obj in objects['shapes']:\n",
    "        annotation.append([obj['label'] , np.array(obj['points'],dtype=np.uint)])\n",
    "    return np.array(annotation)\n",
    "\n",
    "def write_to_CSV(path, x,y, w, h, label):\n",
    "    with open(\"bb_annotation.csv\", 'a', newline='') as file: \n",
    "        writer = csv.writer(file)\n",
    "        writer.writerow([path, x,y, w, h, label])"
   ]
  },
  {
   "cell_type": "markdown",
   "metadata": {},
   "source": [
    "# Black and white mask"
   ]
  },
  {
   "cell_type": "code",
   "execution_count": 5,
   "metadata": {
    "collapsed": true
   },
   "outputs": [],
   "source": [
    "# Testing image mask\n",
    "im = cv2.imread(\"/media/pritesh/Entertainment/cvData/VideoPackage1_1/CV19_image_1.png\")\n",
    "an = get_annotation(\"/media/pritesh/Entertainment/cvData/VideoPackage1_1/CV19_label_renamed_1.json\")\n",
    "height,width,depth = im.shape\n",
    "mask = np.zeros(im.shape, np.uint8)\n",
    "ignore_mask_color = (255,)*depth\n",
    "# polygon = np.array(an[0,1])[np.newaxis]\n",
    "# cv2.fillPoly(mask, polygon , ignore_mask_color)\n",
    "\n",
    "# polygon = np.array(an[1,1])[np.newaxis]\n",
    "# cv2.fillPoly(mask, polygon , ignore_mask_color)\n",
    "mask = get_polygon_mask(im, an)\n",
    "masked_image = cv2.bitwise_and(im, mask)\n",
    "\n",
    "cv2.namedWindow(\"original\", cv2.WINDOW_NORMAL)\n",
    "while True :\n",
    "    cv2.imshow(\"original\", masked_image)\n",
    "    k = cv2.waitKey(100) & 0xFF\n",
    "    if k == 27:\n",
    "        break\n",
    "        \n",
    "cv2.destroyAllWindows()"
   ]
  },
  {
   "cell_type": "markdown",
   "metadata": {},
   "source": [
    "# Transparent mask"
   ]
  },
  {
   "cell_type": "code",
   "execution_count": 7,
   "metadata": {
    "collapsed": false
   },
   "outputs": [],
   "source": [
    "# Testing image mask\n",
    "im = cv2.imread(\"/media/pritesh/Entertainment/cvData/VideoPackage1_1/CV19_image_100.png\")\n",
    "an = get_annotation(\"/media/pritesh/Entertainment/cvData/VideoPackage1_1/CV19_label_renamed_100.json\")\n",
    "height,width,depth = im.shape\n",
    "mask = np.zeros(im.shape, np.uint8)\n",
    "ignore_mask_color = (255,)*depth\n",
    "mask = get_polygon_mask(im, an)\n",
    "# mask = change_mask(mask, [255,255,255], [0,255,0])\n",
    "mask = transperent_mask(mask)\n",
    "masked_image = apply_overlay(im, mask, alpha=0.5)\n",
    "# masked_image\n",
    "cv2.namedWindow(\"original\", cv2.WINDOW_NORMAL)\n",
    "while True :\n",
    "    cv2.imshow(\"original\", masked_image)\n",
    "    k = cv2.waitKey(100) & 0xFF\n",
    "    if k == 27:\n",
    "        break\n",
    "        \n",
    "cv2.destroyAllWindows()"
   ]
  },
  {
   "cell_type": "markdown",
   "metadata": {},
   "source": [
    "# mask with label and annotation "
   ]
  },
  {
   "cell_type": "code",
   "execution_count": 38,
   "metadata": {
    "collapsed": false
   },
   "outputs": [],
   "source": [
    "# Testing image mask\n",
    "im = cv2.imread(\"/media/pritesh/Entertainment/cvData/VideoPackage1_1/CV19_image_100.png\")\n",
    "an = get_annotation(\"/media/pritesh/Entertainment/cvData/VideoPackage1_1/CV19_label_renamed_100.json\")\n",
    "height,width,depth = im.shape\n",
    "mask = np.zeros(im.shape, np.uint8)\n",
    "ignore_mask_color = (255,)*depth\n",
    "mask = get_polygon_mask(im, an)\n",
    "mask = change_mask(mask, [255,255,255], [0,255,0])\n",
    "mask = write_title(mask, \"some text here\")\n",
    "masked_image = apply_overlay(im, (255-mask), alpha=0.5)\n",
    "\n",
    "cv2.namedWindow(\"original\", cv2.WINDOW_NORMAL)\n",
    "while True :\n",
    "    cv2.imshow(\"original\", masked_image)\n",
    "    k = cv2.waitKey(100) & 0xFF\n",
    "    if k == 27:\n",
    "        break\n",
    "        \n",
    "cv2.destroyAllWindows()"
   ]
  },
  {
   "cell_type": "markdown",
   "metadata": {},
   "source": [
    "# Square bounding box and writing it to the CSV file"
   ]
  },
  {
   "cell_type": "code",
   "execution_count": 9,
   "metadata": {
    "collapsed": true
   },
   "outputs": [],
   "source": [
    "image_path = make_dataset(\"/media/pritesh/Entertainment/cvData/\")\n",
    "labels = [x.replace('image', 'label_renamed').replace(os.path.splitext(x)[-1], '.json') for x in image_path]\n",
    "for i,an in enumerate(labels):\n",
    "    data = get_annotation(an)\n",
    "    path = an.split('/')[-1]\n",
    "    labels = {\"Haselnut\":0, \"Peanut\":1, \"Walnut\":2}\n",
    "    for i,objects in enumerate(data):\n",
    "        contour = objects[1]\n",
    "        name = objects[0]\n",
    "        x,y,w,h = cv2.boundingRect(contour)\n",
    "        try :\n",
    "            label = labels[name]\n",
    "        except:\n",
    "            raise ValueError(\"can not find the lable{}\".format(name))\n",
    "        write_to_CSV(path,x,y,w,h,label)\n",
    "# cv2.rectangle(im,(x,y),(x+w,y+h),(0,255,0),2)"
   ]
  },
  {
   "cell_type": "code",
   "execution_count": 61,
   "metadata": {
    "collapsed": true
   },
   "outputs": [],
   "source": [
    "# automatic\n",
    "image_path = make_dataset(\"/media/pritesh/Entertainment/cvData/\")\n",
    "labels = [x.replace('image', 'label_renamed').replace(os.path.splitext(x)[-1], '.json') for x in image_path]\n",
    "an_path = \"/media/pritesh/Entertainment/cvData/VideoPackage1_1/CV19_label_renamed_100.json\"\n",
    "path = an_path.split('/')[-1]\n",
    "labels = {\"Haselnut\":0, \"Peanut\":1, \"Walnut\":2}\n",
    "for i,data in enumerate(an):\n",
    "    contour = data[1]\n",
    "    name = data[0]\n",
    "    x,y,w,h = cv2.boundingRect(contour)\n",
    "    try :\n",
    "        label = labels[name]\n",
    "    except:\n",
    "        raise ValueError(\"can not find the lable{}\".format(name))\n",
    "    write_to_CSV(path,x,y,w,h,label)\n",
    "    "
   ]
  },
  {
   "cell_type": "markdown",
   "metadata": {},
   "source": [
    "# Reading CSV file"
   ]
  },
  {
   "cell_type": "code",
   "execution_count": 4,
   "metadata": {
    "collapsed": false
   },
   "outputs": [],
   "source": [
    "def read_bb_annotation(csv_file):  \n",
    "    with open('bb_annotation.csv') as csvfile:\n",
    "        readCSV = csv.reader(csvfile, delimiter=',')\n",
    "        labels = []\n",
    "        for row in readCSV:\n",
    "            labels.append(row)\n",
    "        return np.array(labels[1:])\n",
    "    # rows = np.where(ll=='CV19_label_renamed_100.json')[0]"
   ]
  },
  {
   "cell_type": "code",
   "execution_count": 15,
   "metadata": {
    "collapsed": false
   },
   "outputs": [
    {
     "data": {
      "text/plain": [
       "array([['CV19_label_renamed_100.json', '1047', '135', '118', '95', '2'],\n",
       "       ['CV19_label_renamed_100.json', '1037', '243', '91', '114', '2'],\n",
       "       ['CV19_label_renamed_100.json', '1126', '282', '36', '50', '0'],\n",
       "       ['CV19_label_renamed_100.json', '633', '602', '116', '134', '1'],\n",
       "       ['CV19_label_renamed_100.json', '709', '814', '49', '57', '0'],\n",
       "       ['CV19_label_renamed_100.json', '1047', '135', '118', '95', '2'],\n",
       "       ['CV19_label_renamed_100.json', '1037', '243', '91', '114', '2'],\n",
       "       ['CV19_label_renamed_100.json', '1126', '282', '36', '50', '0'],\n",
       "       ['CV19_label_renamed_100.json', '633', '602', '116', '134', '1'],\n",
       "       ['CV19_label_renamed_100.json', '709', '814', '49', '57', '0']],\n",
       "      dtype='<U27')"
      ]
     },
     "execution_count": 15,
     "metadata": {},
     "output_type": "execute_result"
    }
   ],
   "source": [
    "image_path = make_dataset(\"/media/pritesh/Entertainment/cvData/\")\n",
    "labels = [x.replace('image', 'label_renamed').replace(os.path.splitext(x)[-1], '.json') for x in image_path]\n",
    "read_bb_annotation(\"/media/pritesh/Entertainment/cvData/bb_annotation.csv\")[:10,:]"
   ]
  },
  {
   "cell_type": "code",
   "execution_count": 36,
   "metadata": {
    "collapsed": false
   },
   "outputs": [
    {
     "name": "stdout",
     "output_type": "stream",
     "text": [
      "Walnut\n",
      "Walnut\n",
      "Haselnut\n",
      "Peanut\n",
      "Haselnut\n",
      "1047 1164 135 229\n"
     ]
    }
   ],
   "source": [
    "# manual\n",
    "xaxis = 0\n",
    "yaxis = 1\n",
    "for i,b in enumerate(an):\n",
    "        polygon = b[1]\n",
    "        print(b[0])\n",
    "polygon = an[0][1]\n",
    "xmin = np.min(polygon[:,xaxis])\n",
    "xmax = np.max(polygon[:,xaxis])\n",
    "ymin = np.min(polygon[:,yaxis])\n",
    "ymax = np.max(polygon[:,yaxis])\n",
    "print(xmin, xmax, ymin, ymax)"
   ]
  },
  {
   "cell_type": "code",
   "execution_count": 59,
   "metadata": {
    "collapsed": false
   },
   "outputs": [],
   "source": []
  },
  {
   "cell_type": "code",
   "execution_count": null,
   "metadata": {
    "collapsed": false
   },
   "outputs": [],
   "source": [
    "cv2.rectangle(im,(x,y),(x+w,y+h),(0,255,0),2)"
   ]
  },
  {
   "cell_type": "code",
   "execution_count": 58,
   "metadata": {
    "collapsed": false
   },
   "outputs": [
    {
     "data": {
      "text/plain": [
       "'CV19_label_renamed_100.json'"
      ]
     },
     "execution_count": 58,
     "metadata": {},
     "output_type": "execute_result"
    }
   ],
   "source": []
  },
  {
   "cell_type": "code",
   "execution_count": 37,
   "metadata": {
    "collapsed": false
   },
   "outputs": [],
   "source": [
    "x,y,w,h  = cv2.boundingRect(an[0][1])"
   ]
  },
  {
   "cell_type": "code",
   "execution_count": 48,
   "metadata": {
    "collapsed": true
   },
   "outputs": [],
   "source": [
    "def write_to_CSV(path, x,y, w, h, label):\n",
    "    with open(\"bb_annotation.csv\", 'a', newline='') as file: \n",
    "        writer = csv.writer(file)\n",
    "        writer.writerow([\"filename\", \"x\", \"y\", \"w\", \"h\", \"label\"])\n",
    "        writer.writerow([path, x,y, w, h, label])\n",
    "\n",
    "\n",
    "# an = \"/media/pritesh/Entertainment/cvData/VideoPackage1_1/CV19_label_renamed_100.json\"\n",
    "# import csv\n",
    "# with open('sss.csv', 'w', newline='') as file:\n",
    "#     writer = csv.writer(file)\n",
    "#     writer.writerow([\"filename\", \"x\", \"y\", \"w\", \"h\", \"label\"])\n",
    "#     writer.writerow([an, \"Linus Torvalds\", \"Linux Kernel\"])"
   ]
  },
  {
   "cell_type": "code",
   "execution_count": 35,
   "metadata": {
    "collapsed": false
   },
   "outputs": [
    {
     "data": {
      "text/plain": [
       "int"
      ]
     },
     "execution_count": 35,
     "metadata": {},
     "output_type": "execute_result"
    }
   ],
   "source": [
    "type(int(an[0][1][0,1]-10))"
   ]
  },
  {
   "cell_type": "code",
   "execution_count": 28,
   "metadata": {
    "collapsed": false
   },
   "outputs": [
    {
     "data": {
      "text/plain": [
       "'Walnut'"
      ]
     },
     "execution_count": 28,
     "metadata": {},
     "output_type": "execute_result"
    }
   ],
   "source": [
    "an[1][0]"
   ]
  },
  {
   "cell_type": "code",
   "execution_count": 36,
   "metadata": {
    "collapsed": false
   },
   "outputs": [
    {
     "ename": "TypeError",
     "evalue": "'numpy.float64' object cannot be interpreted as an integer",
     "output_type": "error",
     "traceback": [
      "\u001b[0;31m---------------------------------------------------------------------------\u001b[0m",
      "\u001b[0;31mTypeError\u001b[0m                                 Traceback (most recent call last)",
      "\u001b[0;32m<ipython-input-36-357dd590930c>\u001b[0m in \u001b[0;36m<module>\u001b[0;34m()\u001b[0m\n\u001b[0;32m----> 1\u001b[0;31m \u001b[0mint\u001b[0m\u001b[0;34m(\u001b[0m\u001b[0man\u001b[0m\u001b[0;34m[\u001b[0m\u001b[0;36m1\u001b[0m\u001b[0;34m]\u001b[0m\u001b[0;34m[\u001b[0m\u001b[0;36m1\u001b[0m\u001b[0;34m]\u001b[0m\u001b[0;34m[\u001b[0m\u001b[0;36m0\u001b[0m\u001b[0;34m,\u001b[0m\u001b[0;36m0\u001b[0m\u001b[0;34m]\u001b[0m\u001b[0;34m,\u001b[0m\u001b[0man\u001b[0m\u001b[0;34m[\u001b[0m\u001b[0;36m1\u001b[0m\u001b[0;34m]\u001b[0m\u001b[0;34m[\u001b[0m\u001b[0;36m1\u001b[0m\u001b[0;34m]\u001b[0m\u001b[0;34m[\u001b[0m\u001b[0;36m0\u001b[0m\u001b[0;34m,\u001b[0m\u001b[0;36m1\u001b[0m\u001b[0;34m]\u001b[0m\u001b[0;34m-\u001b[0m\u001b[0;36m10\u001b[0m\u001b[0;34m)\u001b[0m\u001b[0;34m\u001b[0m\u001b[0;34m\u001b[0m\u001b[0m\n\u001b[0m",
      "\u001b[0;31mTypeError\u001b[0m: 'numpy.float64' object cannot be interpreted as an integer"
     ]
    }
   ],
   "source": [
    "(an[1][1][0,0],an[1][1][0,1]-10)"
   ]
  },
  {
   "cell_type": "code",
   "execution_count": null,
   "metadata": {
    "collapsed": true
   },
   "outputs": [],
   "source": []
  }
 ],
 "metadata": {
  "kernelspec": {
   "display_name": "Python 3",
   "language": "python",
   "name": "python3"
  },
  "language_info": {
   "codemirror_mode": {
    "name": "ipython",
    "version": 3
   },
   "file_extension": ".py",
   "mimetype": "text/x-python",
   "name": "python",
   "nbconvert_exporter": "python",
   "pygments_lexer": "ipython3",
   "version": "3.6.8"
  }
 },
 "nbformat": 4,
 "nbformat_minor": 2
}
