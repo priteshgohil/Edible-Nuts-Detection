{
 "cells": [
  {
   "cell_type": "code",
   "execution_count": 1,
   "metadata": {
    "collapsed": true
   },
   "outputs": [],
   "source": [
    "import torch.utils.data as data\n",
    "import numpy as np\n",
    "import glob\n",
    "import os\n",
    "import sys\n",
    "import torch\n",
    "import json\n",
    "\n",
    "from PIL import Image\n",
    "if('/opt/ros/kinetic/lib/python2.7/dist-packages' in sys.path):\n",
    "    sys.path.remove('/opt/ros/kinetic/lib/python2.7/dist-packages')\n",
    "import cv2\n",
    "\n",
    "\n",
    "def make_dataset(path):\n",
    "    data = []\n",
    "    for root,d_names,f_names in os.walk(path):\n",
    "        for f in f_names:\n",
    "            if('.png' in f):\n",
    "                data.append(os.path.join(root,f))\n",
    "    return data\n",
    "\n",
    "class VisualTactile(data.Dataset):\n",
    "    \"\"\"\n",
    "    Dataset to load images\n",
    "    \"\"\"\n",
    "\n",
    "    def __init__(self, datasetpath, transforms=None):\n",
    "        self.path = datasetpath\n",
    "        self.transforms = transforms\n",
    "        self.data = make_dataset(self.path)\n",
    "\n",
    "    def __getitem__(self,index):\n",
    "        pass\n",
    "\n",
    "    def __len__(self):\n",
    "        return len(self.data)"
   ]
  },
  {
   "cell_type": "code",
   "execution_count": 2,
   "metadata": {
    "collapsed": true
   },
   "outputs": [],
   "source": [
    "def get_annotation(path):\n",
    "    annotation = []\n",
    "    with open(path) as f:\n",
    "        objects = json.load(f)\n",
    "    for obj in objects['shapes']:\n",
    "        annotation.append([obj['label'] , obj['points']])\n",
    "    return np.array(annotation)"
   ]
  },
  {
   "cell_type": "code",
   "execution_count": 3,
   "metadata": {
    "collapsed": true
   },
   "outputs": [],
   "source": [
    "data = make_dataset(\"/media/pritesh/Entertainment/cvData/\")\n",
    "label = [x.replace('image', 'label_renamed').replace(os.path.splitext(x)[-1], '.json') for x in data]"
   ]
  },
  {
   "cell_type": "code",
   "execution_count": 5,
   "metadata": {
    "collapsed": false
   },
   "outputs": [
    {
     "data": {
      "text/plain": [
       "array([['Walnut',\n",
       "        list([[1047.5555555555554, 185.04938271604937], [1056.1975308641975, 204.80246913580245], [1078.4197530864196, 218.3827160493827], [1115.4567901234568, 229.49382716049382], [1141.3827160493827, 222.0864197530864], [1158.6666666666665, 208.50617283950615], [1164.8395061728395, 187.5185185185185], [1158.6666666666665, 160.35802469135803], [1146.320987654321, 146.77777777777777], [1122.8641975308642, 138.1358024691358], [1092.0, 135.66666666666666], [1062.3703703703702, 141.8395061728395], [1048.79012345679, 166.53086419753086]])],\n",
       "       ['Walnut',\n",
       "        list([[1040.148148148148, 267.7654320987654], [1037.679012345679, 310.9753086419753], [1048.79012345679, 339.3703703703703], [1072.2469135802469, 354.18518518518516], [1089.5308641975307, 356.6543209876543], [1116.6913580246912, 341.8395061728395], [1125.3333333333333, 324.55555555555554], [1127.8024691358023, 296.16049382716045], [1119.1604938271605, 266.53086419753083], [1104.3456790123455, 252.95061728395058], [1085.827160493827, 243.07407407407408], [1057.432098765432, 244.3086419753086]])],\n",
       "       ['Haselnut',\n",
       "        list([[1161.1358024691358, 306.037037037037], [1157.432098765432, 320.85185185185185], [1143.8518518518517, 331.96296296296293], [1136.4444444444443, 331.96296296296293], [1126.567901234568, 314.679012345679], [1130.2716049382716, 287.5185185185185], [1148.79012345679, 282.58024691358025]])],\n",
       "       ['Peanut',\n",
       "        list([[633.9753086419753, 638.1358024691358], [654.9629629629629, 651.716049382716], [671.0123456790124, 656.6543209876543], [683.358024691358, 661.5925925925925], [677.1851851851851, 680.1111111111111], [684.5925925925925, 699.8641975308642], [699.4074074074074, 710.9753086419753], [712.9876543209876, 724.5555555555555], [727.8024691358024, 735.6666666666666], [742.6172839506172, 728.2592592592592], [748.7901234567901, 712.2098765432098], [746.3209876543209, 698.6296296296296], [737.679012345679, 682.5802469135803], [730.2716049382716, 673.9382716049382], [719.1604938271604, 665.2962962962963], [716.6913580246913, 660.358024691358], [717.9259259259259, 644.3086419753085], [717.9259259259259, 633.1975308641975], [709.283950617284, 619.6172839506172], [694.469135802469, 610.9753086419753], [675.9506172839506, 607.2716049382716], [654.9629629629629, 602.3333333333333], [642.6172839506172, 610.9753086419753], [636.4444444444445, 620.8518518518518]])],\n",
       "       ['Haselnut',\n",
       "        list([[721.6296296296296, 829.4938271604938], [733.9753086419753, 814.679012345679], [741.3827160493827, 814.679012345679], [750.0246913580246, 817.148148148148], [757.4320987654321, 833.1975308641975], [753.7283950617283, 852.9506172839506], [738.9135802469135, 870.2345679012345], [719.1604938271604, 870.2345679012345], [709.283950617284, 856.6543209876543]])]],\n",
       "      dtype=object)"
      ]
     },
     "execution_count": 5,
     "metadata": {},
     "output_type": "execute_result"
    }
   ],
   "source": [
    "out = get_annotation(label[2])\n"
   ]
  },
  {
   "cell_type": "code",
   "execution_count": null,
   "metadata": {
    "collapsed": true
   },
   "outputs": [],
   "source": [
    "import json\n",
    "import io\n",
    "from pprint import pprint\n",
    "with io.open(label[1]) as f:\n",
    "    annotation = json.load(f)"
   ]
  },
  {
   "cell_type": "code",
   "execution_count": null,
   "metadata": {
    "collapsed": true
   },
   "outputs": [],
   "source": [
    "label[0]"
   ]
  },
  {
   "cell_type": "code",
   "execution_count": null,
   "metadata": {
    "collapsed": true
   },
   "outputs": [],
   "source": [
    "\"imagePath\" in annotation"
   ]
  },
  {
   "cell_type": "code",
   "execution_count": null,
   "metadata": {
    "collapsed": true
   },
   "outputs": [],
   "source": [
    "for a in annotation:\n",
    "    print(a)"
   ]
  },
  {
   "cell_type": "code",
   "execution_count": 17,
   "metadata": {
    "collapsed": true
   },
   "outputs": [],
   "source": [
    "# len(annotation['shapes'])\n",
    "# print(annotation['shapes'][0])\n",
    "# print(annotation['shapes'][0]['label'])\n",
    "# print(annotation['shapes'][0]['points'])\n",
    "a = []\n",
    "for l in annotation['shapes']:\n",
    "    a.append([l['label'], l['points']])\n",
    "    np.array(a)"
   ]
  },
  {
   "cell_type": "code",
   "execution_count": 26,
   "metadata": {
    "collapsed": false
   },
   "outputs": [
    {
     "data": {
      "text/plain": [
       "array(['Walnut', 'Walnut', 'Walnut', 'Peanut', 'Peanut', 'Peanut'],\n",
       "      dtype=object)"
      ]
     },
     "execution_count": 26,
     "metadata": {},
     "output_type": "execute_result"
    }
   ],
   "source": [
    "b = np.array(a)\n"
   ]
  },
  {
   "cell_type": "code",
   "execution_count": null,
   "metadata": {
    "collapsed": true
   },
   "outputs": [],
   "source": []
  }
 ],
 "metadata": {
  "kernelspec": {
   "display_name": "Python 3",
   "language": "python",
   "name": "python3"
  },
  "language_info": {
   "codemirror_mode": {
    "name": "ipython",
    "version": 3
   },
   "file_extension": ".py",
   "mimetype": "text/x-python",
   "name": "python",
   "nbconvert_exporter": "python",
   "pygments_lexer": "ipython3",
   "version": "3.6.8"
  }
 },
 "nbformat": 4,
 "nbformat_minor": 2
}
