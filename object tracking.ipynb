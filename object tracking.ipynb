{
 "cells": [
  {
   "cell_type": "code",
   "execution_count": 2,
   "metadata": {
    "collapsed": false
   },
   "outputs": [
    {
     "name": "stdout",
     "output_type": "stream",
     "text": [
      "Press q to quit selecting boxes and start tracking\n",
      "Press any other key to select next object\n",
      "Selected bounding boxes [(200, 182, 33, 31)]\n"
     ]
    }
   ],
   "source": [
    "import sys\n",
    "if('/opt/ros/kinetic/lib/python2.7/dist-packages' in sys.path):\n",
    "    sys.path.remove('/opt/ros/kinetic/lib/python2.7/dist-packages')\n",
    "import cv2\n",
    "import numpy as np\n",
    "from Find_Mask import FindHSVValue\n",
    "from Conversion import ConvertFrames\n",
    "from random import randint\n",
    "from Tracker import TrackerGenerator\n",
    "\n",
    "converter = ConvertFrames()\n",
    "hsvSlider = FindHSVValue()\n",
    "# while True:\n",
    "cap = cv2.VideoCapture(\"car-overhead-1.avi\")\n",
    "cap.set(cv2.CAP_PROP_POS_FRAMES, 350)\n",
    "# Read first frame\n",
    "success, frame = cap.read() #read 1st frame\n",
    "\n",
    "\n",
    "# quit if unable to read the video file\n",
    "if not success:\n",
    "    print('Failed to read video')\n",
    "    sys.exit(1)\n",
    "## Select boxes\n",
    "bboxes = []\n",
    "colors = [] \n",
    "\n",
    "# OpenCV's selectROI function doesn't work for selecting multiple objects in Python\n",
    "# So we will call this function in a loop till we are done selecting all objects\n",
    "while True:\n",
    "    # draw bounding boxes over objects\n",
    "    # selectROI's default behaviour is to draw box starting from the center\n",
    "    # when fromCenter is set to false, you can draw box starting from top left corner\n",
    "    bbox = cv2.selectROI('MultiTracker', frame)\n",
    "    bboxes.append(bbox)\n",
    "    colors.append((randint(0, 255), randint(0, 255), randint(0, 255)))\n",
    "    print(\"Press q to quit selecting boxes and start tracking\")\n",
    "    print(\"Press any other key to select next object\")\n",
    "    k = cv2.waitKey(0) & 0xFF\n",
    "    if (k == 113):  # q is pressed\n",
    "        break\n",
    "cv2.destroyAllWindows()\n",
    "print('Selected bounding boxes {}'.format(bboxes))\n",
    "# Specify the tracker type\n",
    "trackerType = \"CSRT\"   \n",
    " \n",
    "# Create MultiTracker object\n",
    "multiTracker = cv2.MultiTracker_create()\n",
    "tracker = TrackerGenerator()\n",
    " \n",
    "# Initialize MultiTracker \n",
    "for bbox in bboxes:\n",
    "#     multiTracker.add(tracker.get_CSRT_tracker(), frame, bbox)\n",
    "    multiTracker.add(tracker.get_MedianFlow_tracker(), frame, bbox)\n",
    "\n",
    "    \n",
    "cap = cv2.VideoCapture(\"car-overhead-1.avi\")\n",
    "# Read first frame\n",
    "success, frame = cap.read()\n",
    "# Process video and track objects\n",
    "while cap.isOpened():\n",
    "    success, frame = cap.read()\n",
    "    if not success:\n",
    "        break\n",
    "   \n",
    "    # get updated location of objects in subsequent frames\n",
    "    success, boxes = multiTracker.update(frame)\n",
    " \n",
    "    # draw tracked objects\n",
    "    for i, newbox in enumerate(boxes):\n",
    "        p1 = (int(newbox[0]), int(newbox[1]))\n",
    "        p2 = (int(newbox[0] + newbox[2]), int(newbox[1] + newbox[3]))\n",
    "        cv2.rectangle(frame, p1, p2, colors[i], 2, 1)\n",
    "    # show frame\n",
    "    cv2.imshow('MultiTracker', frame)\n",
    "    # quit on ESC button\n",
    "    if cv2.waitKey(1) & 0xFF == 27:  # Esc pressed\n",
    "        break\n",
    "cv2.destroyAllWindows()\n"
   ]
  },
  {
   "cell_type": "code",
   "execution_count": null,
   "metadata": {
    "collapsed": false
   },
   "outputs": [],
   "source": [
    "import sys\n",
    "if('/opt/ros/kinetic/lib/python2.7/dist-packages' in sys.path):\n",
    "    sys.path.remove('/opt/ros/kinetic/lib/python2.7/dist-packages')\n",
    "import cv2\n",
    "import numpy as np\n",
    "from Find_Mask import FindHSVValue\n",
    "from Conversion import ConvertFrames\n",
    "from random import randint\n",
    "from Tracker import TrackerGenerator\n",
    "\n",
    "converter = ConvertFrames()\n",
    "hsvSlider = FindHSVValue()\n",
    "# while True:\n",
    "cap = cv2.VideoCapture(\"car-overhead-1.avi\")\n",
    "# Read first frame\n",
    "success, frame = cap.read()\n",
    "# quit if unable to read the video file\n",
    "if not success:\n",
    "    print('Failed to read video')\n",
    "    sys.exit(1)\n",
    "# Process video and track objects\n",
    "frame = converter.convert_BGRtoGrayscale(frame)\n",
    "count = 0\n",
    "prev_frame = np.zeros_like(frame)\n",
    "while cap.isOpened():\n",
    "    success, frame = cap.read()\n",
    "    if not success:\n",
    "        break\n",
    "    # show frame\n",
    "    \n",
    "    frame = converter.convert_BGRtoGrayscale(frame)\n",
    "    count +=1\n",
    "    frame1 = np.array(prev_frame, dtype=int)\n",
    "    frame2 = np.array(frame, dtype=int)\n",
    "    out = np.subtract(frame1,frame2)\n",
    "    out = abs(np.linalg.norm(out))\n",
    "    print(\"frame : {}, {}\".format(count, out))\n",
    "    cv2.imshow('MultiTracker', frame)\n",
    "    prev_frame = frame\n",
    "    # quit on ESC button\n",
    "    k = cv2.waitKey(10) & 0xFF\n",
    "    if (k == 113):  # q is pressed\n",
    "        break\n",
    "\n",
    "cv2.destroyAllWindows()"
   ]
  },
  {
   "cell_type": "code",
   "execution_count": null,
   "metadata": {
    "collapsed": true
   },
   "outputs": [],
   "source": [
    "cap = cv2.VideoCapture(\"car-overhead-1.avi\")\n",
    "# Read first frame\n",
    "success, frame = cap.read()\n",
    "# quit if unable to read the video file\n",
    "if not success:\n",
    "    print('Failed to read video')\n",
    "    sys.exit(1)\n",
    "# Process video and track objects\n",
    "frame1 = converter.convert_BGRtoGrayscale(frame)\n",
    "success, frame = cap.read()\n",
    "frame2 = converter.convert_BGRtoGrayscale(frame)"
   ]
  },
  {
   "cell_type": "code",
   "execution_count": null,
   "metadata": {
    "collapsed": false
   },
   "outputs": [],
   "source": [
    "cv2.imshow(\"f1\", frame1)\n",
    "cv2.imshow(\"f2\",frame2)\n",
    "cv2.waitKey(10000)\n",
    "cv2.destroyAllWindows()"
   ]
  },
  {
   "cell_type": "code",
   "execution_count": null,
   "metadata": {
    "collapsed": false
   },
   "outputs": [],
   "source": [
    "frame2 = np.array(frame2, dtype=int)\n",
    "frame1 = np.array(frame1, dtype=int)\n",
    "out = np.subtract(frame1,frame2)\n",
    "np.mean(out)"
   ]
  },
  {
   "cell_type": "code",
   "execution_count": null,
   "metadata": {
    "collapsed": false
   },
   "outputs": [],
   "source": [
    "frame2.flatten()-frame1.flatten()"
   ]
  },
  {
   "cell_type": "code",
   "execution_count": null,
   "metadata": {
    "collapsed": false
   },
   "outputs": [],
   "source": [
    "frame2.flatten()"
   ]
  },
  {
   "cell_type": "code",
   "execution_count": null,
   "metadata": {
    "collapsed": false
   },
   "outputs": [],
   "source": [
    "vidcap.set(cv2.CAP_PROP_POS_FRAMES, length-missing_frames-remove_element)"
   ]
  },
  {
   "cell_type": "code",
   "execution_count": null,
   "metadata": {
    "collapsed": false
   },
   "outputs": [],
   "source": [
    "cv2.CAP_PROP_POS_FRAMES"
   ]
  },
  {
   "cell_type": "code",
   "execution_count": null,
   "metadata": {
    "collapsed": true
   },
   "outputs": [],
   "source": []
  }
 ],
 "metadata": {
  "kernelspec": {
   "display_name": "Python 3",
   "language": "python",
   "name": "python3"
  },
  "language_info": {
   "codemirror_mode": {
    "name": "ipython",
    "version": 3
   },
   "file_extension": ".py",
   "mimetype": "text/x-python",
   "name": "python",
   "nbconvert_exporter": "python",
   "pygments_lexer": "ipython3",
   "version": "3.6.8"
  }
 },
 "nbformat": 4,
 "nbformat_minor": 2
}
